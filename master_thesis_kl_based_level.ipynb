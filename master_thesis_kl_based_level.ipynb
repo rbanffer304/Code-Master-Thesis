{
 "cells": [
  {
   "cell_type": "code",
   "execution_count": 2,
   "id": "78717f9d",
   "metadata": {},
   "outputs": [],
   "source": [
    "# Import libraries\n",
    "from sklearn.model_selection import train_test_split\n",
    "import pandas as pd\n",
    "\n",
    "from sklearn.linear_model import LogisticRegression\n",
    "from sklearn.ensemble import RandomForestClassifier\n",
    "from sklearn.ensemble import GradientBoostingClassifier\n",
    "from sklearn.naive_bayes import GaussianNB\n",
    "\n",
    "from sklearn.metrics import roc_auc_score\n",
    "from sklearn.metrics import f1_score\n",
    "from sklearn.metrics import precision_recall_curve\n",
    "from sklearn.metrics import auc"
   ]
  },
  {
   "cell_type": "code",
   "execution_count": 3,
   "id": "268d75e4",
   "metadata": {},
   "outputs": [
    {
     "name": "stdout",
     "output_type": "stream",
     "text": [
      "            rowId  covariateId  covariateValue  \\\n",
      "0          3938.0   4083311102               1   \n",
      "1        175397.0     81380102               1   \n",
      "2         23031.0   4145418102               1   \n",
      "3        152472.0    135473102               1   \n",
      "4         60021.0   4213101102               1   \n",
      "...           ...          ...             ...   \n",
      "5411125   67932.0    378253104               1   \n",
      "5411126  135007.0   4211852104               1   \n",
      "5411127  127381.0    197988104               1   \n",
      "5411128   20208.0    201826104               1   \n",
      "5411129  161935.0    440005104               1   \n",
      "\n",
      "                                             covariateName  analysisId  \\\n",
      "0        condition_occurrence during day -365 through -...         102   \n",
      "1        condition_occurrence during day -365 through -...         102   \n",
      "2        condition_occurrence during day -365 through -...         102   \n",
      "3        condition_occurrence during day -365 through -...         102   \n",
      "4        condition_occurrence during day -365 through -...         102   \n",
      "...                                                    ...         ...   \n",
      "5411125  condition_occurrence during day -30 through -1...         104   \n",
      "5411126  condition_occurrence during day -30 through -1...         104   \n",
      "5411127  condition_occurrence during day -30 through -1...         104   \n",
      "5411128  condition_occurrence during day -30 through -1...         104   \n",
      "5411129  condition_occurrence during day -30 through -1...         104   \n",
      "\n",
      "         conceptId  \n",
      "0          4083311  \n",
      "1            81380  \n",
      "2          4145418  \n",
      "3           135473  \n",
      "4          4213101  \n",
      "...            ...  \n",
      "5411125     378253  \n",
      "5411126    4211852  \n",
      "5411127     197988  \n",
      "5411128     201826  \n",
      "5411129     440005  \n",
      "\n",
      "[5411130 rows x 6 columns]\n",
      "     Unnamed: 0  rowId  outcomeId  daysToEvent\n",
      "0             1  16546        622         1819\n",
      "1             2   2150        622         1686\n",
      "2             3  13687        622          258\n",
      "3             4   6514        622         2841\n",
      "4             5  14507        622         1649\n",
      "..          ...    ...        ...          ...\n",
      "441         442   3044        622         4161\n",
      "442         443   7198        622         2446\n",
      "443         444    555        622           13\n",
      "444         445   9601        622          575\n",
      "445         446  18562        622         1185\n",
      "\n",
      "[446 rows x 4 columns]\n"
     ]
    }
   ],
   "source": [
    "data = pd.read_csv('cov_merged.csv')\n",
    "target = pd.read_csv('outcomes.csv')\n",
    "print(data)\n",
    "print(target)"
   ]
  },
  {
   "cell_type": "code",
   "execution_count": 27,
   "id": "7f22de1c",
   "metadata": {},
   "outputs": [
    {
     "name": "stdout",
     "output_type": "stream",
     "text": [
      "         conceptId window  covariateValue  patient\n",
      "0          4083311   365d               1     3938\n",
      "1            81380   365d               1   175397\n",
      "2          4145418   365d               1    23031\n",
      "3           135473   365d               1   152472\n",
      "4          4213101   365d               1    60021\n",
      "...            ...    ...             ...      ...\n",
      "5411125     378253   030d               1    67932\n",
      "5411126    4211852   030d               1   135007\n",
      "5411127     197988   030d               1   127381\n",
      "5411128     201826   030d               1    20208\n",
      "5411129     440005   030d               1   161935\n",
      "\n",
      "[5411130 rows x 4 columns]\n",
      "         conceptId window  covariateValue  patient\n",
      "0          4083311   365d               1     3938\n",
      "1            81380   365d               1   175397\n",
      "2          4145418   365d               1    23031\n",
      "3           135473   365d               1   152472\n",
      "4          4213101   365d               1    60021\n",
      "...            ...    ...             ...      ...\n",
      "5411125     378253   030d               1    67932\n",
      "5411126    4211852   030d               1   135007\n",
      "5411127     197988   030d               1   127381\n",
      "5411128     201826   030d               1    20208\n",
      "5411129     440005   030d               1   161935\n",
      "\n",
      "[5343894 rows x 4 columns]\n",
      "176037\n"
     ]
    }
   ],
   "source": [
    "# Create windows to represent analysis ids\n",
    "analysisId_to_window = {101: \"all\", 102: '365d', 103: '180d', 104: '030d', 105: 'all',\n",
    "                        106: '365d', 107: '180d', 108: '030d'}\n",
    "\n",
    "# Create observations data file from data file\n",
    "observation = pd.DataFrame()\n",
    "observation['conceptId'] = data['conceptId']\n",
    "# observation['analysisId'] = data['analysisId']\n",
    "observation['window'] = data['analysisId'].apply(lambda x: analysisId_to_window.get(x, 'Unknown'))\n",
    "observation['covariateValue'] = 1\n",
    "observation['patient'] = data['rowId'].astype(int)\n",
    "# observation['covariateId'] = data['covariateId']\n",
    "print(observation)\n",
    "print(observation.drop_duplicates())\n",
    "observation = observation.drop_duplicates()\n",
    "print(len(set(observation['patient'])))"
   ]
  },
  {
   "cell_type": "code",
   "execution_count": 12,
   "id": "224ca269",
   "metadata": {},
   "outputs": [
    {
     "name": "stdout",
     "output_type": "stream",
     "text": [
      "4200550\n",
      "650535\n",
      "382161\n",
      "110648\n"
     ]
    }
   ],
   "source": [
    "observation_all = observation[observation['window'] == \"all\"]\n",
    "print(len(observation_all))\n",
    "observation_365d = observation[observation['window'] == \"365d\"]\n",
    "print(len(observation_365d))\n",
    "observation_180d = observation[observation['window'] == \"180d\"]\n",
    "print(len(observation_180d))\n",
    "observation_030d = observation[observation['window'] == \"030d\"]\n",
    "print(len(observation_030d))\n",
    "\n",
    "# Pick time window\n",
    "chosen_window = \"365d\"\n",
    "observation = observation[observation['window'] == chosen_window]"
   ]
  },
  {
   "cell_type": "code",
   "execution_count": 13,
   "id": "1869c945",
   "metadata": {},
   "outputs": [
    {
     "name": "stdout",
     "output_type": "stream",
     "text": [
      "Has outcome 1172\n",
      "No outcome 649363\n"
     ]
    }
   ],
   "source": [
    "risk_window_end = 1825\n",
    "# Creating outcomes list\n",
    "outcomes = []\n",
    "has_outcome = 0\n",
    "no_outcome = 0\n",
    "for i in observation['patient']:\n",
    "    if i in target['rowId'].values:\n",
    "        if target.loc[target['rowId'] == i, 'daysToEvent'].values[0] < risk_window_end:\n",
    "            outcomes.append(1)\n",
    "            has_outcome += 1\n",
    "        else:\n",
    "            outcomes.append(0)\n",
    "            no_outcome += 1\n",
    "    else:\n",
    "        outcomes.append(0)\n",
    "        no_outcome += 1\n",
    "\n",
    "print(f'Has outcome {has_outcome}')\n",
    "print(f'No outcome {no_outcome}')"
   ]
  },
  {
   "cell_type": "code",
   "execution_count": 14,
   "id": "667b85d2",
   "metadata": {},
   "outputs": [],
   "source": [
    "random_state = 42\n",
    "test_size = 0.25\n",
    "# Split the data in train and test set\n",
    "X_train, X_test, y_train, y_test = train_test_split(observation, outcomes, stratify=outcomes, random_state=random_state, test_size=test_size)"
   ]
  },
  {
   "cell_type": "code",
   "execution_count": 15,
   "id": "b421daa5",
   "metadata": {},
   "outputs": [],
   "source": [
    "# Load ancestor and outcomes data\n",
    "ancestry = pd.read_csv(\"relations_ancestor_total.csv\")"
   ]
  },
  {
   "cell_type": "code",
   "execution_count": 16,
   "id": "da4c03c3",
   "metadata": {},
   "outputs": [
    {
     "name": "stdout",
     "output_type": "stream",
     "text": [
      "17829\n"
     ]
    }
   ],
   "source": [
    "# Choose what level above the data stays\n",
    "chosen_level = 4\n",
    "# Filter relations above chosen level\n",
    "filtered_relations = ancestry[\n",
    "    (ancestry['ANCESTOR_CON CEPT_ID'] == 441840) &\n",
    "    (ancestry['MIN_LEVELS_OF_SEPARATION'] < chosen_level)\n",
    "]\n",
    "\n",
    "print(len(set(filtered_relations['DESCENDANT_CONCEPT_ID'])))"
   ]
  },
  {
   "cell_type": "code",
   "execution_count": 17,
   "id": "31f005ef",
   "metadata": {},
   "outputs": [],
   "source": [
    "# Select only concepts with observed descendants\n",
    "selected_concepts_set = set(filtered_relations['DESCENDANT_CONCEPT_ID'])\n",
    "observed_concepts_set = set(X_train['conceptId'])\n",
    "observed_descendants = ancestry[ancestry['DESCENDANT_CONCEPT_ID'].isin(observed_concepts_set)]\n",
    "concepts_with_observed_descendants_set = set(observed_descendants['ANCESTOR_CONCEPT_ID'])"
   ]
  },
  {
   "cell_type": "code",
   "execution_count": 18,
   "id": "8a84aa9f",
   "metadata": {},
   "outputs": [],
   "source": [
    "# Count how many times each concept appears as an ancestor of observed descendants\n",
    "concept_to_score = observed_descendants['ANCESTOR_CONCEPT_ID'].value_counts().to_dict()"
   ]
  },
  {
   "cell_type": "code",
   "execution_count": 19,
   "id": "636f6be5",
   "metadata": {},
   "outputs": [
    {
     "name": "stdout",
     "output_type": "stream",
     "text": [
      "        conceptId window  covariateValue  patient\n",
      "126958     442774   365d               0    23202\n",
      "558864    4182210   365d              13    44258\n",
      "194507     194133   365d               2   123142\n",
      "308071     199876   365d               0    92767\n",
      "529225    4088777   365d               0   148512\n",
      "...           ...    ...             ...      ...\n",
      "121323     444187   365d               4   128897\n",
      "380138    4185503   365d              87   128113\n",
      "43502    40481632   365d               4    94895\n",
      "363649     137351   365d               0    23226\n",
      "449576    4022201   365d              36   163841\n",
      "\n",
      "[487901 rows x 4 columns]\n",
      "        conceptId window  covariateValue  patient\n",
      "558864    4182210   365d              13    44258\n",
      "194507     194133   365d               2   123142\n",
      "337596     435613   365d               3   125694\n",
      "1694       440921   365d              35    46806\n",
      "275433    4304008   365d               3   126914\n",
      "...           ...    ...             ...      ...\n",
      "390360     444220   365d               8    25526\n",
      "121323     444187   365d               4   128897\n",
      "380138    4185503   365d              87   128113\n",
      "43502    40481632   365d               4    94895\n",
      "449576    4022201   365d              36   163841\n",
      "\n",
      "[173243 rows x 4 columns]\n"
     ]
    }
   ],
   "source": [
    "# Function to compute cumulative score for each row\n",
    "def compute_cumulative_score(concept_id):\n",
    "    score = 0\n",
    "    if concept_id in selected_concepts_set:\n",
    "        score += 1\n",
    "        score += concept_to_score.get(concept_id, 0)\n",
    "    return score\n",
    "\n",
    "# Apply to training and test sets\n",
    "X_train['covariateValue'] = X_train['conceptId'].apply(compute_cumulative_score)\n",
    "print(X_train)\n",
    "print(X_train[X_train['covariateValue'] > 0])"
   ]
  },
  {
   "cell_type": "code",
   "execution_count": 20,
   "id": "8c5d4223",
   "metadata": {},
   "outputs": [
    {
     "name": "stdout",
     "output_type": "stream",
     "text": [
      "144301\n",
      "92838\n"
     ]
    }
   ],
   "source": [
    "def pivot_covariates(df):\n",
    "    observation = df.pivot(index='patient', columns='conceptId', values='covariateValue')\n",
    "    return observation.fillna(0)\n",
    "\n",
    "X_train = pivot_covariates(X_train)\n",
    "X_test = pivot_covariates(X_test)\n",
    "\n",
    "print(len(X_train))\n",
    "print(len(X_test))\n",
    "X_train, X_test = X_train.align(X_test, join='left', axis=1, fill_value=0)"
   ]
  },
  {
   "cell_type": "code",
   "execution_count": 21,
   "id": "e33f105d",
   "metadata": {},
   "outputs": [
    {
     "name": "stdout",
     "output_type": "stream",
     "text": [
      "144301\n",
      "92838\n",
      "487901\n"
     ]
    }
   ],
   "source": [
    "print(len(X_train))\n",
    "print(len(X_test))\n",
    "print(len(y_train))"
   ]
  },
  {
   "cell_type": "code",
   "execution_count": 22,
   "id": "a007465e",
   "metadata": {},
   "outputs": [],
   "source": [
    "def create_outcomes(indexes):\n",
    "    outcomes = []\n",
    "    for i in indexes:\n",
    "        if i in target['rowId'].values:\n",
    "            days_to_event = target.loc[target['rowId'] == i, 'daysToEvent'].values[0]\n",
    "            outcomes.append(1 if days_to_event < risk_window_end else 0)\n",
    "        else:\n",
    "            outcomes.append(0)\n",
    "    return outcomes\n",
    "\n",
    "y_train = create_outcomes(X_train.index)\n",
    "y_test = create_outcomes(X_test.index)"
   ]
  },
  {
   "cell_type": "code",
   "execution_count": 23,
   "id": "3fecce4f",
   "metadata": {},
   "outputs": [],
   "source": [
    "lr_penalty = 'l1'\n",
    "lr_solver = \"liblinear\"\n",
    "model = LogisticRegression(penalty=lr_penalty, solver=lr_solver)"
   ]
  },
  {
   "cell_type": "code",
   "execution_count": 24,
   "id": "effec963",
   "metadata": {},
   "outputs": [
    {
     "name": "stdout",
     "output_type": "stream",
     "text": [
      "[[0.         0.         0.         ... 0.         0.         0.65285581]]\n",
      "Number of model features: 142\n",
      "0.6892663545980868\n",
      "0.4996038681742332\n"
     ]
    }
   ],
   "source": [
    "# Fit model on train data\n",
    "model.fit(X_train, y_train)\n",
    "\n",
    "\n",
    "# Get model coefficients\n",
    "model_coefficients = model.coef_[0]\n",
    "print(model.coef_)\n",
    "\n",
    "number_model_features = len(set(model_coefficients))\n",
    "\n",
    "print('Number of model features:', number_model_features)\n",
    "\n",
    "# Get train probabilities\n",
    "y_prob_train = model.predict_proba(X_train)\n",
    "\n",
    "# Get ths train auc score\n",
    "train_auc = roc_auc_score(y_train, y_prob_train[:, 1])\n",
    "print(train_auc)\n",
    "\n",
    "# Get test probabilities\n",
    "y_prob_test = model.predict_proba(X_test)\n",
    "\n",
    "# Get ths test auc score\n",
    "test_auc = roc_auc_score(y_test, y_prob_test[:, 1])\n",
    "print(test_auc)\n",
    "\n",
    "# Calculate precision-recall curve\n",
    "precision_test, recall_test, _ = precision_recall_curve(y_test, y_prob_test[:, 1])\n",
    "\n",
    "# Calculate AUPRC\n",
    "auprc_test_score = auc(recall_test, precision_test)"
   ]
  },
  {
   "cell_type": "code",
   "execution_count": 25,
   "id": "194b6bad",
   "metadata": {},
   "outputs": [
    {
     "name": "stdout",
     "output_type": "stream",
     "text": [
      "0.9967577931450483\n"
     ]
    }
   ],
   "source": [
    "import numpy as np\n",
    "from sklearn.metrics import accuracy_score\n",
    "\n",
    "# Match the positive rate in training (more realistic) or use 0.5 for fully random\n",
    "positive_rate = np.mean(y_train)\n",
    "random_preds = np.random.choice([0, 1], size=len(y_test), p=[1 - positive_rate, positive_rate])\n",
    "\n",
    "# Compute accuracy of random model\n",
    "random_model_accuracy = accuracy_score(y_test, random_preds)\n",
    "print(random_model_accuracy)"
   ]
  }
 ],
 "metadata": {
  "kernelspec": {
   "display_name": "Python 3 (ipykernel)",
   "language": "python",
   "name": "python3"
  },
  "language_info": {
   "codemirror_mode": {
    "name": "ipython",
    "version": 3
   },
   "file_extension": ".py",
   "mimetype": "text/x-python",
   "name": "python",
   "nbconvert_exporter": "python",
   "pygments_lexer": "ipython3",
   "version": "3.9.12"
  }
 },
 "nbformat": 4,
 "nbformat_minor": 5
}
